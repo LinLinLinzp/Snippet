{
  "nbformat": 4,
  "nbformat_minor": 0,
  "metadata": {
    "colab": {
      "name": "missing_semster_cs_1.ipynb",
      "provenance": [],
      "authorship_tag": "ABX9TyMihjwyGMCgaEfa30HHBBtF"
    },
    "kernelspec": {
      "name": "python3",
      "display_name": "Python 3"
    }
  },
  "cells": [
    {
      "cell_type": "markdown",
      "metadata": {
        "id": "BtCRUk8hjAFB",
        "colab_type": "text"
      },
      "source": [
        "## The exercise 1 of missing semster of cs \n",
        "\n",
        "link: https://missing.csail.mit.edu/2020/course-shell/\n"
      ]
    },
    {
      "cell_type": "markdown",
      "metadata": {
        "id": "t9ZMwDEji28u",
        "colab_type": "text"
      },
      "source": [
        "### 1.Create a new directory called missing under /tmp.\n"
      ]
    },
    {
      "cell_type": "code",
      "metadata": {
        "id": "Z5sUxTxg0ynM",
        "colab_type": "code",
        "colab": {}
      },
      "source": [
        "cd .."
      ],
      "execution_count": 0,
      "outputs": []
    },
    {
      "cell_type": "code",
      "metadata": {
        "id": "40aoqBGh1Mcz",
        "colab_type": "code",
        "colab": {}
      },
      "source": [
        "cd tmp"
      ],
      "execution_count": 0,
      "outputs": []
    },
    {
      "cell_type": "code",
      "metadata": {
        "id": "TmmyUyxe1cRE",
        "colab_type": "code",
        "colab": {}
      },
      "source": [
        "mkdir missing"
      ],
      "execution_count": 0,
      "outputs": []
    },
    {
      "cell_type": "code",
      "metadata": {
        "id": "QWPNzUZj1gQj",
        "colab_type": "code",
        "colab": {
          "base_uri": "https://localhost:8080/",
          "height": 34
        },
        "outputId": "858393b5-39fa-4173-8032-48f100557ccf"
      },
      "source": [
        "ls"
      ],
      "execution_count": 27,
      "outputs": [
        {
          "output_type": "stream",
          "text": [
            "\u001b[0m\u001b[01;34mmissing\u001b[0m/\n"
          ],
          "name": "stdout"
        }
      ]
    },
    {
      "cell_type": "markdown",
      "metadata": {
        "id": "0JF-bRDA1krZ",
        "colab_type": "text"
      },
      "source": [
        "### 2.Look up the touch program. The man program is your friend."
      ]
    },
    {
      "cell_type": "code",
      "metadata": {
        "id": "4WjoQfYo1oyj",
        "colab_type": "code",
        "colab": {}
      },
      "source": [
        ""
      ],
      "execution_count": 0,
      "outputs": []
    }
  ]
}