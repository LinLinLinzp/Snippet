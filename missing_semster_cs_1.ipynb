{
  "nbformat": 4,
  "nbformat_minor": 0,
  "metadata": {
    "colab": {
      "name": "missing_semster_cs_1.ipynb",
      "provenance": [],
      "authorship_tag": "ABX9TyP4/TP3LUrDsxEK3qkIxOW8"
    },
    "kernelspec": {
      "name": "python3",
      "display_name": "Python 3"
    }
  },
  "cells": [
    {
      "cell_type": "markdown",
      "metadata": {
        "id": "BtCRUk8hjAFB",
        "colab_type": "text"
      },
      "source": [
        "## The exercise 1 of missing semster of cs \n",
        "\n",
        "link: https://missing.csail.mit.edu/2020/course-shell/\n"
      ]
    },
    {
      "cell_type": "markdown",
      "metadata": {
        "id": "t9ZMwDEji28u",
        "colab_type": "text"
      },
      "source": [
        "### 1.Create a new directory called missing under /tmp.\n"
      ]
    },
    {
      "cell_type": "code",
      "metadata": {
        "id": "Z5sUxTxg0ynM",
        "colab_type": "code",
        "outputId": "80cdde33-2792-4829-d1a8-ed7079028e46",
        "colab": {
          "base_uri": "https://localhost:8080/",
          "height": 34
        }
      },
      "source": [
        "cd .."
      ],
      "execution_count": 0,
      "outputs": [
        {
          "output_type": "stream",
          "text": [
            "/\n"
          ],
          "name": "stdout"
        }
      ]
    },
    {
      "cell_type": "code",
      "metadata": {
        "id": "40aoqBGh1Mcz",
        "colab_type": "code",
        "outputId": "18e5969b-1cc7-4217-f22e-d823722a79f2",
        "colab": {
          "base_uri": "https://localhost:8080/",
          "height": 34
        }
      },
      "source": [
        "cd tmp"
      ],
      "execution_count": 0,
      "outputs": [
        {
          "output_type": "stream",
          "text": [
            "/tmp\n"
          ],
          "name": "stdout"
        }
      ]
    },
    {
      "cell_type": "code",
      "metadata": {
        "id": "TmmyUyxe1cRE",
        "colab_type": "code",
        "colab": {}
      },
      "source": [
        "mkdir missing"
      ],
      "execution_count": 0,
      "outputs": []
    },
    {
      "cell_type": "code",
      "metadata": {
        "id": "QWPNzUZj1gQj",
        "colab_type": "code",
        "outputId": "c964980e-a6a4-4f96-d2f4-64c27b5a2ad0",
        "colab": {
          "base_uri": "https://localhost:8080/",
          "height": 34
        }
      },
      "source": [
        "ls"
      ],
      "execution_count": 0,
      "outputs": [
        {
          "output_type": "stream",
          "text": [
            "\u001b[0m\u001b[01;34mmissing\u001b[0m/\n"
          ],
          "name": "stdout"
        }
      ]
    },
    {
      "cell_type": "markdown",
      "metadata": {
        "id": "0JF-bRDA1krZ",
        "colab_type": "text"
      },
      "source": [
        "### 2.Look up the touch program. The man program is your friend."
      ]
    },
    {
      "cell_type": "code",
      "metadata": {
        "id": "4WjoQfYo1oyj",
        "colab_type": "code",
        "colab": {}
      },
      "source": [
        "man touch"
      ],
      "execution_count": 0,
      "outputs": []
    },
    {
      "cell_type": "code",
      "metadata": {
        "id": "awtLSGNB6Fhp",
        "colab_type": "code",
        "outputId": "ba706b1e-1a78-4237-96a9-bbcb4c4d7d20",
        "colab": {
          "base_uri": "https://localhost:8080/",
          "height": 34
        }
      },
      "source": [
        "cd missing"
      ],
      "execution_count": 0,
      "outputs": [
        {
          "output_type": "stream",
          "text": [
            "/tmp/missing\n"
          ],
          "name": "stdout"
        }
      ]
    },
    {
      "cell_type": "markdown",
      "metadata": {
        "id": "5biwaACh7uK8",
        "colab_type": "text"
      },
      "source": [
        "### 3.Use touch to create a new file called semester in missing."
      ]
    },
    {
      "cell_type": "code",
      "metadata": {
        "id": "iluR4lx56soP",
        "colab_type": "code",
        "colab": {}
      },
      "source": [
        "touch semester"
      ],
      "execution_count": 0,
      "outputs": []
    },
    {
      "cell_type": "markdown",
      "metadata": {
        "id": "kE4BQgTWBUlL",
        "colab_type": "text"
      },
      "source": [
        "### 4.Write the following into that file, one line at a time"
      ]
    },
    {
      "cell_type": "code",
      "metadata": {
        "id": "CHgND0VKBRM7",
        "colab_type": "code",
        "colab": {}
      },
      "source": [
        "echo '#!/bin/sh' > semester\n",
        "echo 'curl --head --silent https://missing.csail.mit.edu' >> semester"
      ],
      "execution_count": 0,
      "outputs": []
    },
    {
      "cell_type": "markdown",
      "metadata": {
        "id": "8tVnz7pkP4zt",
        "colab_type": "text"
      },
      "source": [
        "### Try to execute the file, i.e. type the path to the script (./semester) into your shell and press enter. Understand why it doesn’t work by consulting the output of ls (hint: look at the permission bits of the file).\n",
        "### Run the command by explicitly starting the sh interpreter, and giving it the file semester as the first argument, i.e. sh semester. Why does this work, while ./semester didn’t?"
      ]
    },
    {
      "cell_type": "code",
      "metadata": {
        "id": "og_f1I6sP95q",
        "colab_type": "code",
        "colab": {}
      },
      "source": [
        "sh semester"
      ],
      "execution_count": 0,
      "outputs": []
    },
    {
      "cell_type": "markdown",
      "metadata": {
        "id": "__lz2sV4P8Lk",
        "colab_type": "text"
      },
      "source": [
        "### Look up the chmod program (e.g. use man chmod)."
      ]
    },
    {
      "cell_type": "code",
      "metadata": {
        "id": "Wq7Rf4nO7WVr",
        "colab_type": "code",
        "colab": {}
      },
      "source": [
        "man chmod"
      ],
      "execution_count": 0,
      "outputs": []
    },
    {
      "cell_type": "markdown",
      "metadata": {
        "id": "TW6jTvl8QKHE",
        "colab_type": "text"
      },
      "source": [
        "### Use chmod to make it possible to run the command ./semester rather than having to type sh semester. How does your shell know that the file is supposed to be interpreted using sh? See this page on the shebang line for more information."
      ]
    },
    {
      "cell_type": "code",
      "metadata": {
        "id": "fOZkUIHNQHlb",
        "colab_type": "code",
        "colab": {}
      },
      "source": [
        "chmod a+x semester"
      ],
      "execution_count": 0,
      "outputs": []
    },
    {
      "cell_type": "markdown",
      "metadata": {
        "id": "HRHC8awHQPZ7",
        "colab_type": "text"
      },
      "source": [
        "Use | and > to write the “last modified” date output by semester into a file called last-modified.txt in your home directory."
      ]
    },
    {
      "cell_type": "code",
      "metadata": {
        "id": "UBKHXkwaQNa4",
        "colab_type": "code",
        "colab": {}
      },
      "source": [
        "ls -l semester | grep \"Jun\" > last-modified.txt"
      ],
      "execution_count": 0,
      "outputs": []
    }
  ]
}